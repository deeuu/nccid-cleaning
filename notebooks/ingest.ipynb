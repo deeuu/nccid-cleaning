{
 "cells": [
  {
   "cell_type": "code",
   "execution_count": null,
   "metadata": {},
   "outputs": [],
   "source": [
    "from pathlib import Path\n",
    "import os\n",
    "import nccid_cleaning.etl as etl\n",
    "from nccid_cleaning import clean_data_df, patient_df_pipeline\n",
    "\n",
    "BASE_PATH = Path(\"/project/data/training\")\n",
    "XRAY_SUBDIR = \"xray-metadata\"\n",
    "CT_SUBDIR = \"ct-metadata\"\n",
    "MRI_SUBDIR = \"mri-metadata\"\n",
    "PATIENT_SUBDIR = \"data\""
   ]
  },
  {
   "cell_type": "code",
   "execution_count": null,
   "metadata": {},
   "outputs": [],
   "source": [
    "# image file lists\n",
    "xray_files = etl.select_image_files(\n",
    "    BASE_PATH / XRAY_SUBDIR, select_all=True\n",
    ")\n",
    "ct_files = etl.select_image_files(\n",
    "    BASE_PATH / CT_SUBDIR, select_first=True\n",
    ")\n",
    "mri_files = etl.select_image_files(\n",
    "    BASE_PATH  / MRI_SUBDIR, select_first=True\n",
    ")"
   ]
  },
  {
   "cell_type": "code",
   "execution_count": null,
   "metadata": {},
   "outputs": [],
   "source": [
    "# process image metadata\n",
    "xray_datasets = etl.ingest_dicom_jsons(xray_files)\n",
    "ct_datasets = etl.ingest_dicom_jsons(ct_files)\n",
    "mri_datasets = etl.ingest_dicom_jsons(mri_files)\n",
    "\n",
    "xrays = etl.pydicom_to_df(xray_datasets)\n",
    "cts = etl.pydicom_to_df(ct_datasets)\n",
    "mris = etl.pydicom_to_df(mri_datasets)"
   ]
  },
  {
   "cell_type": "code",
   "execution_count": null,
   "metadata": {},
   "outputs": [],
   "source": [
    "# process patient clinical data\n",
    "patient_files = list(os.walk(BASE_PATH / PATIENT_SUBDIR))\n",
    "patients = etl.patient_jsons_to_df(patient_files)"
   ]
  },
  {
   "cell_type": "code",
   "execution_count": null,
   "metadata": {},
   "outputs": [],
   "source": [
    "# save DFs to csv\n",
    "patients.to_csv(\"../data/patients.csv\")\n",
    "xrays.to_csv(\"../data/xrays.csv\")\n",
    "cts.to_csv(\"../data/cts.csv\")\n",
    "mris.to_csv(\"../data/mris.csv\")"
   ]
  }
 ],
 "metadata": {
  "kernelspec": {
   "display_name": "Python [conda env:Python3]",
   "language": "python",
   "name": "conda-env-Python3-py"
  },
  "language_info": {
   "codemirror_mode": {
    "name": "ipython",
    "version": 3
   },
   "file_extension": ".py",
   "mimetype": "text/x-python",
   "name": "python",
   "nbconvert_exporter": "python",
   "pygments_lexer": "ipython3",
   "version": "3.6.10"
  }
 },
 "nbformat": 4,
 "nbformat_minor": 2
}
